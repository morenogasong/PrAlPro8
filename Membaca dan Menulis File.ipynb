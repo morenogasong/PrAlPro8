{
  "nbformat": 4,
  "nbformat_minor": 0,
  "metadata": {
    "colab": {
      "provenance": []
    },
    "kernelspec": {
      "name": "python3",
      "display_name": "Python 3"
    },
    "language_info": {
      "name": "python"
    }
  },
  "cells": [
    {
      "cell_type": "markdown",
      "source": [
        "**Latihan 8.1** Buatlah sebuah program yang dapat membandingkan 2 buah file teks dan kemudian menampilkan perbedaan antar kedua teks per barisnya jika ada perbedaaan!"
      ],
      "metadata": {
        "id": "_aYX2AV0pf-2"
      }
    },
    {
      "cell_type": "code",
      "source": [
        "def compare_files(file1, file2):\n",
        "    with open(file1, 'r') as f1, open(file2, 'r') as f2:\n",
        "        lines1 = f1.readlines()\n",
        "        lines2 = f2.readlines()\n",
        "\n",
        "    for i, (line1, line2) in enumerate(zip(lines1, lines2), start=1):\n",
        "        if line1 != line2:\n",
        "            print(f\"Perbedaan pada baris {i}:\")\n",
        "            print(f\"File 1: {line1.strip()}\")\n",
        "            print(f\"File 2: {line2.strip()}\\n\")\n",
        "\n",
        "    if len(lines1) != len(lines2):\n",
        "        print(\"Jumlah baris pada kedua file berbeda.\")\n",
        "\n",
        "file1 = input(\"Masukkan nama file pertama: \")\n",
        "file2 = input(\"Masukkan nama file kedua: \")\n",
        "\n",
        "compare_files(file1, file2)\n"
      ],
      "metadata": {
        "id": "hawxivivpp0i"
      },
      "execution_count": null,
      "outputs": []
    },
    {
      "cell_type": "markdown",
      "source": [
        "**Latihan 8.2** Buatlah sebuah program untuk menampilkan soal sederhana yang diambil dari file teks soal.txt yang memiliki format sebagai berikut:\n",
        "\n",
        "1+1 = || 2\n",
        "\n",
        "Bendera Indonesia? || Merah Putih\n",
        "\n",
        "Kota gudeg adalah: || Yogyakarta\n",
        "\n",
        "Komponen PC untuk penyimpanan file adalah... || harddisk\n",
        "\n",
        "50 * 20 = || 1000\n",
        "\n",
        "Dari soal tersebut tampilkan sbb:\n",
        "\n",
        "nama file1: soal.txt\n",
        "1+1 =\n",
        "\n",
        "Jawab: 2\n",
        "\n",
        "Jawaban benar!\n",
        "\n",
        "Bendera Indonesia?\n",
        "\n",
        "Jawab: merah putih\n",
        "\n",
        "Jawaban benar!\n",
        "\n",
        "Kota gudeg adalah:\n",
        "\n",
        "Jawab: yogya\n",
        "\n",
        "Jawaban salah!\n",
        "\n",
        "Komponen PC untuk penyimpanan file adalah...\n",
        "\n",
        "Jawab: HARDDISK\n",
        "\n",
        "Jawaban benar!\n"
      ],
      "metadata": {
        "id": "6FUOxaB5ptgU"
      }
    },
    {
      "cell_type": "code",
      "source": [
        "with open('soal.txt', 'r') as file:\n",
        "    lines = file.readlines()\n",
        "\n",
        "nama_file = 'soal.txt'\n",
        "for line in lines:\n",
        "    question, answer = line.strip().split('||')\n",
        "    print(question.strip())\n",
        "    user_answer = input('Jawab: ').strip().lower()\n",
        "    if user_answer == answer.strip().lower():\n",
        "        print('Jawaban benar!')\n",
        "    else:\n",
        "        print('Jawaban salah!')\n",
        "        print('Jawaban yang benar adalah: ' + answer.strip() + '\\n')"
      ],
      "metadata": {
        "id": "zBXOgphOqUm4"
      },
      "execution_count": null,
      "outputs": []
    }
  ]
}